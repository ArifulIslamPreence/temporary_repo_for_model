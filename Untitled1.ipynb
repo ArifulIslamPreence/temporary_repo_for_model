{
 "cells": [
  {
   "cell_type": "code",
   "execution_count": 1,
   "metadata": {},
   "outputs": [],
   "source": [
    "import csv\n",
    "import numpy as np\n",
    "import pandas as pd\n",
    "from sklearn import preprocessing\n",
    "import seaborn as sns\n",
    "from sklearn.model_selection import train_test_split\n",
    "import torch\n",
    "import torch.nn.functional as F\n",
    "from sklearn.metrics import confusion_matrix, classification_report, roc_curve, roc_auc_score\n",
    "from sklearn.preprocessing import StandardScaler\n",
    "from torch import nn, optim\n",
    "import math\n",
    "import matplotlib.pyplot as plt"
   ]
  },
  {
   "cell_type": "markdown",
   "metadata": {},
   "source": [
    "### Loading preprocessed dataset"
   ]
  },
  {
   "cell_type": "code",
   "execution_count": 2,
   "metadata": {},
   "outputs": [
    {
     "name": "stdout",
     "output_type": "stream",
     "text": [
      "(279426, 1757)\n",
      "(69857, 1757)\n"
     ]
    }
   ],
   "source": [
    "batch_size = 100\n",
    "traindf = pd.read_csv('encoded_train_optimised_one.csv')\n",
    "#testdf = pd.read_csv('final_test_one-feb.csv')\n",
    "\n",
    "x_train = traindf.drop('rlf', axis=1)\n",
    "y_train = traindf['rlf']\n",
    "features = len(x_train.columns)\n",
    "\n",
    "X_train, X_test, y_train, y_test = train_test_split(x_train, y_train, test_size=0.20)\n",
    "\n",
    "x_trains = X_train[:].values\n",
    "y_trains = y_train[:].values\n",
    "y_trains = y_trains.reshape(1,-1)\n",
    "\n",
    "# x_test = testdf.drop('rlf', axis=1)\n",
    "# y_test = testdf['rlf']\n",
    "\n",
    "x_tests = X_test[:].values\n",
    "y_tests = y_test[:].values\n",
    "y_tests = y_tests.reshape(1,-1)\n",
    "\n",
    "print(x_trains.shape)\n",
    "print(x_tests.shape)\n"
   ]
  },
  {
   "cell_type": "markdown",
   "metadata": {},
   "source": [
    "### normalize train test"
   ]
  },
  {
   "cell_type": "code",
   "execution_count": 5,
   "metadata": {},
   "outputs": [
    {
     "ename": "MemoryError",
     "evalue": "Unable to allocate 1.83 GiB for an array with shape (279426, 1757) and data type float32",
     "output_type": "error",
     "traceback": [
      "\u001b[1;31m---------------------------------------------------------------------------\u001b[0m",
      "\u001b[1;31mMemoryError\u001b[0m                               Traceback (most recent call last)",
      "\u001b[1;32m<ipython-input-5-a253f6b9bbb1>\u001b[0m in \u001b[0;36m<module>\u001b[1;34m\u001b[0m\n\u001b[0;32m      3\u001b[0m \u001b[0mtraining\u001b[0m \u001b[1;33m=\u001b[0m \u001b[0mx_trains\u001b[0m\u001b[1;33m\u001b[0m\u001b[1;33m\u001b[0m\u001b[0m\n\u001b[0;32m      4\u001b[0m \u001b[0mtraining\u001b[0m \u001b[1;33m=\u001b[0m \u001b[0mpd\u001b[0m\u001b[1;33m.\u001b[0m\u001b[0mDataFrame\u001b[0m\u001b[1;33m(\u001b[0m\u001b[0mtraining\u001b[0m\u001b[1;33m,\u001b[0m \u001b[0mcolumns\u001b[0m\u001b[1;33m=\u001b[0m \u001b[0mx_train\u001b[0m\u001b[1;33m.\u001b[0m\u001b[0mcolumns\u001b[0m\u001b[1;33m)\u001b[0m\u001b[1;33m\u001b[0m\u001b[1;33m\u001b[0m\u001b[0m\n\u001b[1;32m----> 5\u001b[1;33m \u001b[0mtrain_tensor\u001b[0m \u001b[1;33m=\u001b[0m \u001b[0mtorch\u001b[0m\u001b[1;33m.\u001b[0m\u001b[0mtensor\u001b[0m\u001b[1;33m(\u001b[0m\u001b[0mtraining\u001b[0m\u001b[1;33m.\u001b[0m\u001b[0mvalues\u001b[0m\u001b[1;33m.\u001b[0m\u001b[0mastype\u001b[0m\u001b[1;33m(\u001b[0m\u001b[0mnp\u001b[0m\u001b[1;33m.\u001b[0m\u001b[0mfloat32\u001b[0m\u001b[1;33m)\u001b[0m\u001b[1;33m)\u001b[0m\u001b[1;33m\u001b[0m\u001b[1;33m\u001b[0m\u001b[0m\n\u001b[0m\u001b[0;32m      6\u001b[0m \u001b[0mtrain_loader\u001b[0m \u001b[1;33m=\u001b[0m \u001b[0mtorch\u001b[0m\u001b[1;33m.\u001b[0m\u001b[0mutils\u001b[0m\u001b[1;33m.\u001b[0m\u001b[0mdata\u001b[0m\u001b[1;33m.\u001b[0m\u001b[0mDataLoader\u001b[0m\u001b[1;33m(\u001b[0m\u001b[0mtrain_tensor\u001b[0m\u001b[1;33m,\u001b[0m \u001b[0mbatch_size\u001b[0m\u001b[1;33m=\u001b[0m\u001b[0mbatch_size\u001b[0m\u001b[1;33m,\u001b[0m \u001b[0mshuffle\u001b[0m\u001b[1;33m=\u001b[0m\u001b[1;32mTrue\u001b[0m\u001b[1;33m)\u001b[0m\u001b[1;33m\u001b[0m\u001b[1;33m\u001b[0m\u001b[0m\n",
      "\u001b[1;31mMemoryError\u001b[0m: Unable to allocate 1.83 GiB for an array with shape (279426, 1757) and data type float32"
     ]
    }
   ],
   "source": [
    "normalizer = preprocessing.Normalizer(norm=\"l2\")\n",
    "#training = normalizer.fit_transform(x_trains)\n",
    "training = x_trains\n",
    "training = pd.DataFrame(training, columns= x_train.columns)\n",
    "train_tensor = torch.tensor(training.values.astype(np.float32))\n",
    "train_loader = torch.utils.data.DataLoader(train_tensor, batch_size=batch_size, shuffle=True)"
   ]
  },
  {
   "cell_type": "code",
   "execution_count": 4,
   "metadata": {},
   "outputs": [],
   "source": [
    "testing = normalizer.fit_transform(x_tests)\n",
    "\n",
    "test_X = pd.DataFrame(testing, columns=x_train.columns)\n",
    "test_Y = y_tests"
   ]
  },
  {
   "cell_type": "markdown",
   "metadata": {},
   "source": [
    "### AE class implemented"
   ]
  },
  {
   "cell_type": "code",
   "execution_count": 5,
   "metadata": {},
   "outputs": [
    {
     "ename": "NameError",
     "evalue": "name 'features' is not defined",
     "output_type": "error",
     "traceback": [
      "\u001b[1;31m---------------------------------------------------------------------------\u001b[0m",
      "\u001b[1;31mNameError\u001b[0m                                 Traceback (most recent call last)",
      "\u001b[1;32m<ipython-input-5-c69bc86e88c7>\u001b[0m in \u001b[0;36m<module>\u001b[1;34m\u001b[0m\n\u001b[1;32m----> 1\u001b[1;33m \u001b[0mdimension\u001b[0m \u001b[1;33m=\u001b[0m \u001b[0mfeatures\u001b[0m\u001b[1;33m\u001b[0m\u001b[1;33m\u001b[0m\u001b[0m\n\u001b[0m\u001b[0;32m      2\u001b[0m \u001b[1;33m\u001b[0m\u001b[0m\n\u001b[0;32m      3\u001b[0m \u001b[0mlr\u001b[0m \u001b[1;33m=\u001b[0m \u001b[1;36m1e-5\u001b[0m\u001b[1;33m\u001b[0m\u001b[1;33m\u001b[0m\u001b[0m\n\u001b[0;32m      4\u001b[0m \u001b[0mnum_epochs\u001b[0m \u001b[1;33m=\u001b[0m \u001b[1;36m100\u001b[0m\u001b[1;33m\u001b[0m\u001b[1;33m\u001b[0m\u001b[0m\n\u001b[0;32m      5\u001b[0m \u001b[1;33m\u001b[0m\u001b[0m\n",
      "\u001b[1;31mNameError\u001b[0m: name 'features' is not defined"
     ]
    }
   ],
   "source": [
    "dimension = features\n",
    "\n",
    "lr = 1e-5\n",
    "num_epochs = 100\n",
    "\n",
    "\n",
    "class AutoEncoder(nn.Module):\n",
    "    def __init__(self):\n",
    "        super(AutoEncoder, self).__init__()\n",
    "        # encoder\n",
    "        self.enc1 = nn.Linear(in_features=dimension, out_features=int(dimension / 2))\n",
    "        self.enc2 = nn.Linear(in_features=int(dimension / 2), out_features=int(dimension / 4))\n",
    "        self.enc3 = nn.Linear(in_features=int(dimension / 4), out_features=int(dimension / 8))\n",
    "        # self.enc4 = nn.Linear(in_features=int(dim/4), out_features=int(dim/8))\n",
    "\n",
    "        # decoder\n",
    "        self.dec1 = nn.Linear(in_features=int(dimension / 8), out_features=int(dimension / 4))\n",
    "        self.dec2 = nn.Linear(in_features=int(dimension / 4), out_features=int(dimension / 2))\n",
    "        self.dec3 = nn.Linear(in_features=int(dimension / 2), out_features=dimension)\n",
    "        # self.dec4 = nn.Linear(in_features=dim, out_features=dim)\n",
    "\n",
    "    def forward(self, x):\n",
    "                x = F.relu(self.enc1(x))\n",
    "                x = F.relu(self.enc2(x))\n",
    "                x = F.relu(self.enc3(x))\n",
    "\n",
    "                x = F.relu(self.dec1(x))\n",
    "                x = F.relu(self.dec2(x))\n",
    "                x = F.relu(self.dec3(x))\n",
    "\n",
    "        # sigmoid activation\n",
    "        # x = torch.sigmoid(self.enc1(x))\n",
    "        # x = torch.sigmoid(self.enc2(x))\n",
    "        # x = torch.sigmoid(self.enc3(x))\n",
    "        # # x = F.relu(self.enc4(x))\n",
    "\n",
    "        # x = torch.sigmoid(self.dec1(x))\n",
    "        # x = torch.sigmoid(self.dec2(x))\n",
    "        # x = torch.sigmoid(self.dec3(x))\n",
    "                return x"
   ]
  },
  {
   "cell_type": "markdown",
   "metadata": {},
   "source": [
    "#### model optimization with adam opt"
   ]
  },
  {
   "cell_type": "code",
   "execution_count": null,
   "metadata": {},
   "outputs": [],
   "source": [
    "device = torch.device(\"cuda\" if torch.cuda.is_available() else \"cpu\")\n",
    "net = AutoEncoder()\n",
    "optimizer = optim.Adam(net.parameters(), lr=1e-5)\n",
    "\n",
    "loss_function = nn.BCEWithLogitsLoss()  # nn.BCEWithLogitsLoss()  #MSELoss too\n",
    "get_loss = list()"
   ]
  },
  {
   "cell_type": "markdown",
   "metadata": {},
   "source": [
    "### training model"
   ]
  },
  {
   "cell_type": "code",
   "execution_count": null,
   "metadata": {},
   "outputs": [],
   "source": [
    "def training_ae(net, trainloader, epochs):\n",
    "    train_loss = []\n",
    "    for epoch in range(epochs):\n",
    "        running_loss = 0.0\n",
    "        for data in train_loader:\n",
    "            input_data = data.to(device=device)\n",
    "            optimizer.zero_grad()\n",
    "            output = net(input_data).to(device=device)  # output is the reconstruced x\n",
    "            loss = loss_function(output, input_data).to(device=device)  # input_data should be the target variable\n",
    "            loss.backward()\n",
    "            optimizer.step()\n",
    "            running_loss += loss.item()\n",
    "\n",
    "        loss = running_loss / len(trainloader)\n",
    "        train_loss.append(loss)\n",
    "\n",
    "        if epoch % 20 == 0:\n",
    "            print('Epoch {} of {}, Train Loss: {:.3f}'.format(\n",
    "                epoch + 1, num_epochs, loss))\n",
    "    return train_loss\n",
    "\n",
    "\n",
    "get_loss_train = training_ae(net, train_loader, num_epochs)"
   ]
  },
  {
   "cell_type": "code",
   "execution_count": null,
   "metadata": {},
   "outputs": [],
   "source": [
    "_, ax = plt.subplots(1, 1, figsize=(15, 10))\n",
    "plt.xlabel(\"epochs\")\n",
    "plt.ylabel(\"loss value \")\n",
    "ax.set_title('Loss graph')\n",
    "ax.plot(get_loss_train)"
   ]
  },
  {
   "cell_type": "markdown",
   "metadata": {},
   "source": [
    "### evaluation"
   ]
  },
  {
   "cell_type": "code",
   "execution_count": null,
   "metadata": {},
   "outputs": [],
   "source": [
    "test_loss = []\n",
    "net.eval()\n",
    "test_tensor = torch.tensor(test_X.values.astype(np.float32))\n",
    "\n",
    "with torch.no_grad():\n",
    "    for i in range(len(test_X)):\n",
    "        input = test_tensor[i].to(device=device)\n",
    "        output = net(input).to(device=device)\n",
    "        loss = loss_function(output, input).to(device=device)\n",
    "        test_loss.append(loss.item())\n",
    "\n",
    "fpr, tpr, thresholds = roc_curve(y_true=test_Y.astype(int), y_score=test_loss, pos_label=1)\n",
    "ranked_thresholds = sorted(list(zip(np.abs(1.5*tpr - fpr), thresholds, tpr, fpr)), key=lambda i: i[0], reverse=True)\n",
    "_, failure_threshold, threshold_tpr, threshold_fpr = ranked_thresholds[0]\n",
    "print(f\"Selected failure Threshold: {failure_threshold}\")\n",
    "print(\"Theshold yields TPR: {:.4f}, FPR: {:.4f}\".format(threshold_tpr, threshold_fpr))"
   ]
  },
  {
   "cell_type": "markdown",
   "metadata": {},
   "source": [
    "### ROC curve of the model"
   ]
  },
  {
   "cell_type": "code",
   "execution_count": null,
   "metadata": {},
   "outputs": [],
   "source": [
    "auc = roc_auc_score(y_true=test_Y.astype(int),  y_score=test_loss)\n",
    "print(\"AUC: {:.4f}\".format(auc))\n",
    "\n",
    "plt.figure(figsize=(10, 10))\n",
    "plt.plot([0,1], [0,1], linestyle=\"--\") # plot baseline curve\n",
    "plt.plot(fpr, tpr, marker=\".\", label=\"Failure Threshold:{:.6f}\\nTPR: {:.4f}, FPR:{:.4f}\".format(failure_threshold, threshold_tpr, threshold_fpr))\n",
    "plt.axhline(y=threshold_tpr, color='darkgreen', lw=0.8, ls='--')\n",
    "plt.axvline(x=threshold_fpr, color='darkgreen', lw=0.8, ls='--')\n",
    "plt.title(\"ROC Curve\")\n",
    "plt.ylabel(\"True Positive Rate\")\n",
    "plt.xlabel(\"False Positive Rate\")\n",
    "plt.legend(loc=\"lower right\")"
   ]
  },
  {
   "cell_type": "markdown",
   "metadata": {},
   "source": [
    "#### Test results"
   ]
  },
  {
   "cell_type": "code",
   "execution_count": null,
   "metadata": {},
   "outputs": [],
   "source": [
    "test_results = test_Y.to_frame().astype(bool)\n",
    "test_results['loss'] = pd.Series(test_loss, index=test_results.index)\n",
    "test_results['is_failed'] = test_results.loss > failure_threshold\n",
    "\n",
    "conf_matrix = confusion_matrix(test_results.rlf, test_results.is_failed)\n",
    "plt.figure()\n",
    "sns.heatmap(conf_matrix, annot=True, annot_kws={\"size\": 16}, fmt='g')\n",
    "plt.title('Failure Threshold Classification - Confusion Matrix')\n",
    "print(classification_report(test_results.rlf, test_results.is_failed, target_names=[\"regular\", \"rlf\"]))"
   ]
  }
 ],
 "metadata": {
  "kernelspec": {
   "display_name": "Python 3",
   "language": "python",
   "name": "python3"
  },
  "language_info": {
   "codemirror_mode": {
    "name": "ipython",
    "version": 3
   },
   "file_extension": ".py",
   "mimetype": "text/x-python",
   "name": "python",
   "nbconvert_exporter": "python",
   "pygments_lexer": "ipython3",
   "version": "3.8.3"
  }
 },
 "nbformat": 4,
 "nbformat_minor": 4
}
